{
 "cells": [
  {
   "cell_type": "code",
   "execution_count": 1,
   "metadata": {},
   "outputs": [],
   "source": [
    "from vaderSentiment.vaderSentiment import SentimentIntensityAnalyzer"
   ]
  },
  {
   "cell_type": "code",
   "execution_count": 2,
   "metadata": {},
   "outputs": [],
   "source": [
    "analyser=SentimentIntensityAnalyzer()"
   ]
  },
  {
   "cell_type": "code",
   "execution_count": 3,
   "metadata": {},
   "outputs": [],
   "source": [
    "def sentiment_analyzer_scores(sentence):\n",
    "    score=analyser.polarity_scores(sentence)\n",
    "    print(\"{:-<40} {}\".format(sentence, str(score)))"
   ]
  },
  {
   "cell_type": "code",
   "execution_count": 4,
   "metadata": {},
   "outputs": [
    {
     "name": "stdout",
     "output_type": "stream",
     "text": [
      "The phone is super cool.---------------- {'neg': 0.0, 'neu': 0.326, 'pos': 0.674, 'compound': 0.7351}\n"
     ]
    }
   ],
   "source": [
    "sentiment_analyzer_scores(\"The phone is super cool.\")"
   ]
  },
  {
   "cell_type": "code",
   "execution_count": 15,
   "metadata": {},
   "outputs": [
    {
     "name": "stdout",
     "output_type": "stream",
     "text": [
      "The food is good, but the service is really bad {'neg': 0.343, 'neu': 0.528, 'pos': 0.129, 'compound': -0.6416}\n"
     ]
    }
   ],
   "source": [
    "#baseline sentence\n",
    "sentiment_analyzer_scores(\"The food is good, but the service is really bad\")"
   ]
  },
  {
   "cell_type": "code",
   "execution_count": 6,
   "metadata": {},
   "outputs": [
    {
     "name": "stdout",
     "output_type": "stream",
     "text": [
      "The food here is good!------------------ {'neg': 0.0, 'neu': 0.556, 'pos': 0.444, 'compound': 0.4926}\n",
      "None\n",
      "The food here is good!!----------------- {'neg': 0.0, 'neu': 0.534, 'pos': 0.466, 'compound': 0.5399}\n",
      "None\n",
      "The food here is good!!!---------------- {'neg': 0.0, 'neu': 0.514, 'pos': 0.486, 'compound': 0.5826}\n",
      "None\n"
     ]
    }
   ],
   "source": [
    "#Punctuation\n",
    "print(sentiment_analyzer_scores(\"The food here is good!\"))\n",
    "print(sentiment_analyzer_scores(\"The food here is good!!\"))\n",
    "print(sentiment_analyzer_scores(\"The food here is good!!!\"))"
   ]
  },
  {
   "cell_type": "code",
   "execution_count": null,
   "metadata": {},
   "outputs": [],
   "source": []
  }
 ],
 "metadata": {
  "kernelspec": {
   "display_name": "Python 3",
   "language": "python",
   "name": "python3"
  },
  "language_info": {
   "codemirror_mode": {
    "name": "ipython",
    "version": 3
   },
   "file_extension": ".py",
   "mimetype": "text/x-python",
   "name": "python",
   "nbconvert_exporter": "python",
   "pygments_lexer": "ipython3",
   "version": "3.6.5"
  }
 },
 "nbformat": 4,
 "nbformat_minor": 2
}
