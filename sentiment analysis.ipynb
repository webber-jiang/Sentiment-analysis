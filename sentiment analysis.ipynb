{
 "cells": [
  {
   "cell_type": "code",
   "execution_count": 1,
   "metadata": {},
   "outputs": [],
   "source": [
    "#load rquired packages\n",
    "from vaderSentiment.vaderSentiment import SentimentIntensityAnalyzer\n",
    "import matplotlib.pyplot as plt\n",
    "import numpy as np\n",
    "import re\n",
    "import seaborn as sns"
   ]
  },
  {
   "cell_type": "code",
   "execution_count": 2,
   "metadata": {},
   "outputs": [],
   "source": [
    "#initialse a variable (testing vader)\n",
    "analyser = SentimentIntensityAnalyzer()"
   ]
  },
  {
   "cell_type": "code",
   "execution_count": 3,
   "metadata": {},
   "outputs": [
    {
     "data": {
      "text/plain": [
       "{'neg': 0.0, 'neu': 0.508, 'pos': 0.492, 'compound': 0.4404}"
      ]
     },
     "execution_count": 3,
     "metadata": {},
     "output_type": "execute_result"
    }
   ],
   "source": [
    "# Testing vader paakage\n",
    "analyser.polarity_scores(\"The movie is good\")"
   ]
  },
  {
   "cell_type": "code",
   "execution_count": 4,
   "metadata": {},
   "outputs": [
    {
     "data": {
      "text/plain": [
       "{'neg': 0.487, 'neu': 0.513, 'pos': 0.0, 'compound': -0.5849}"
      ]
     },
     "execution_count": 4,
     "metadata": {},
     "output_type": "execute_result"
    }
   ],
   "source": [
    "# Testing vader paakage\n",
    "analyser.polarity_scores(\"The movie is very bad\")"
   ]
  },
  {
   "cell_type": "code",
   "execution_count": 5,
   "metadata": {},
   "outputs": [],
   "source": [
    "#categorise the sentiments into 0 for neutral, -1 for negative, 1 for positive (for compound)\n",
    "def sentiment_analyzer_scores(text):\n",
    "    score=analyser.polarity_scores(text)\n",
    "    lb=score['compound']\n",
    "    if lb>=0.05:\n",
    "        return 1\n",
    "    elif(lb>-0.05) and (lb<0.05):\n",
    "        return 0\n",
    "    else:\n",
    "        return -1"
   ]
  },
  {
   "cell_type": "code",
   "execution_count": 6,
   "metadata": {},
   "outputs": [
    {
     "data": {
      "text/plain": [
       "-1"
      ]
     },
     "execution_count": 6,
     "metadata": {},
     "output_type": "execute_result"
    }
   ],
   "source": [
    "#test\n",
    "sentiment_analyzer_scores(\"The movie is VERY BAD!\")"
   ]
  },
  {
   "cell_type": "code",
   "execution_count": 7,
   "metadata": {},
   "outputs": [
    {
     "data": {
      "text/plain": [
       "1"
      ]
     },
     "execution_count": 7,
     "metadata": {},
     "output_type": "execute_result"
    }
   ],
   "source": [
    "#test\n",
    "sentiment_analyzer_scores(\"The movie is VERY GOOD!\")"
   ]
  },
  {
   "cell_type": "code",
   "execution_count": 8,
   "metadata": {},
   "outputs": [
    {
     "data": {
      "text/plain": [
       "0"
      ]
     },
     "execution_count": 8,
     "metadata": {},
     "output_type": "execute_result"
    }
   ],
   "source": [
    "#test\n",
    "sentiment_analyzer_scores(\"The movie is LONG\")"
   ]
  },
  {
   "cell_type": "code",
   "execution_count": 9,
   "metadata": {},
   "outputs": [],
   "source": [
    "import tweepy"
   ]
  },
  {
   "cell_type": "code",
   "execution_count": 10,
   "metadata": {},
   "outputs": [],
   "source": [
    "consumer_key = 'l7ecjqISp5QbzUOHbgbti14LB'\n",
    "consumer_secret = 'i0tQusU3n1yDTLBrPu3wjijWLHvuCumuo0s82g7Uooud8mXNAi'\n",
    "access_token = '1144586854898909184-jKEdg5qv38vAq4uJVGfDGjr1TjH0zE'\n",
    "access_token_secret = 'leXZf2zssurRBf5jK4GZEm8n0HDcptcaZ9GBIJLgYRcAt'"
   ]
  },
  {
   "cell_type": "code",
   "execution_count": 11,
   "metadata": {},
   "outputs": [],
   "source": [
    "auth = tweepy.OAuthHandler(consumer_key, consumer_secret)\n",
    "auth.set_access_token(access_token, access_token_secret)\n",
    "api = tweepy.API(auth)"
   ]
  },
  {
   "cell_type": "code",
   "execution_count": 12,
   "metadata": {},
   "outputs": [],
   "source": [
    "#ask user to enter the twitter name and the number of tweets\n",
    "#The function will also output the full text of the tweet. For example\n",
    "#list_tweets[2] will print the 3rd tweet\n",
    "def list_tweets(user_id, count, prt=False):\n",
    "    tweets = api.user_timeline(\n",
    "        \"@\" + user_id, count=count, tweet_mode='extended')\n",
    "    tw = []\n",
    "    for t in tweets:\n",
    "        tw.append(t.full_text)\n",
    "        if prt:\n",
    "            print(t.full_text)\n",
    "            print()\n",
    "    return tw\n"
   ]
  },
  {
   "cell_type": "code",
   "execution_count": 13,
   "metadata": {},
   "outputs": [],
   "source": [
    "userID='realDonaldTrump'\n",
    "count=200"
   ]
  },
  {
   "cell_type": "code",
   "execution_count": 14,
   "metadata": {},
   "outputs": [],
   "source": [
    "tw_trump=list_tweets(userID, count)"
   ]
  },
  {
   "cell_type": "code",
   "execution_count": 18,
   "metadata": {},
   "outputs": [
    {
     "data": {
      "text/plain": [
       "'After some very important meetings, including my meeting with President Xi of China, I will be leaving Japan for South Korea (with President Moon). While there, if Chairman Kim of North Korea sees this, I would meet him at the Border/DMZ just to shake his hand and say Hello(?)!'"
      ]
     },
     "execution_count": 18,
     "metadata": {},
     "output_type": "execute_result"
    }
   ],
   "source": [
    "#tw_trump[12]\n",
    "#tw_trump[0]\n",
    "tw_trump[0]"
   ]
  },
  {
   "cell_type": "markdown",
   "metadata": {},
   "source": [
    "wew"
   ]
  },
  {
   "cell_type": "code",
   "execution_count": 19,
   "metadata": {},
   "outputs": [],
   "source": [
    "def remove_pattern(input_txt, pattern):\n",
    "    r = re.findall(pattern, input_txt)\n",
    "    for i in r:\n",
    "        input_txt = re.sub(i, '', input_txt)        \n",
    "    return input_txt\n",
    "\n",
    "def clean_tweets(lst):\n",
    "    # remove twitter Return handles (RT @xxx:)\n",
    "    lst = np.vectorize(remove_pattern)(lst, \"RT @[\\w]*:\")\n",
    "    \n",
    "    # remove twitter handles (@xxx)\n",
    "    lst = np.vectorize(remove_pattern)(lst, \"@[\\w]*\")\n",
    "    \n",
    "    # remove URL links (httpxxx)\n",
    "    lst = np.vectorize(remove_pattern)(lst, \"https?://[A-Za-z0-9./]*\")\n",
    "    \n",
    "    # remove special characters, numbers, punctuations (#)\n",
    "    lst = np.core.defchararray.replace(lst, \"[^a-zA-Z#]\", \" \")\n",
    "    return lst"
   ]
  },
  {
   "cell_type": "code",
   "execution_count": 20,
   "metadata": {},
   "outputs": [
    {
     "data": {
      "text/plain": [
       "'Thank you @MSNBC, real professionals! @chucktodd @maddow https://t.co/7ZCkcUQ4yA'"
      ]
     },
     "execution_count": 20,
     "metadata": {},
     "output_type": "execute_result"
    }
   ],
   "source": [
    "tw_trump[10]"
   ]
  },
  {
   "cell_type": "code",
   "execution_count": 21,
   "metadata": {},
   "outputs": [],
   "source": [
    "tw_trump=clean_tweets(tw_trump)"
   ]
  },
  {
   "cell_type": "code",
   "execution_count": 22,
   "metadata": {},
   "outputs": [
    {
     "data": {
      "text/plain": [
       "'Thank you , real professionals!   '"
      ]
     },
     "execution_count": 22,
     "metadata": {},
     "output_type": "execute_result"
    }
   ],
   "source": [
    "tw_trump[10]"
   ]
  },
  {
   "cell_type": "code",
   "execution_count": 23,
   "metadata": {},
   "outputs": [
    {
     "data": {
      "text/plain": [
       "1"
      ]
     },
     "execution_count": 23,
     "metadata": {},
     "output_type": "execute_result"
    }
   ],
   "source": [
    "#test after removing unwated letters.\n",
    "sentiment_analyzer_scores(tw_trump[10])"
   ]
  },
  {
   "cell_type": "code",
   "execution_count": 36,
   "metadata": {},
   "outputs": [],
   "source": [
    "def anl_tweets(lst, title='Tweets Sentiment', engl=True ):\n",
    "    sents = []\n",
    "    for tw in lst:\n",
    "        try:\n",
    "            st = sentiment_analyzer_scores(tw)\n",
    "            sents.append(st)\n",
    "        except:\n",
    "            sents.append(0)\n",
    "    ax = sns.distplot(\n",
    "        sents,\n",
    "        kde=False,\n",
    "        bins=5)\n",
    "    ax.set(xlabel='Negative                Neutral                 Positive',\n",
    "           ylabel='#Tweets',\n",
    "          title=\"Tweets of @\"+title)\n",
    "    return sents\n"
   ]
  },
  {
   "cell_type": "code",
   "execution_count": 37,
   "metadata": {},
   "outputs": [
    {
     "name": "stderr",
     "output_type": "stream",
     "text": [
      "/Users/webbersjiang/anaconda3/lib/python3.6/site-packages/matplotlib/axes/_axes.py:6462: UserWarning: The 'normed' kwarg is deprecated, and has been replaced by the 'density' kwarg.\n",
      "  warnings.warn(\"The 'normed' kwarg is deprecated, and has been \"\n"
     ]
    },
    {
     "data": {
      "image/png": "[encoded data removed]",
      "text/plain": [
       "<Figure size 432x288 with 1 Axes>"
      ]
     },
     "metadata": {},
     "output_type": "display_data"
    }
   ],
   "source": [
    "tw_trump_sent=anl_tweets(tw_trump, userID)"
   ]
  },
  {
   "cell_type": "code",
   "execution_count": 110,
   "metadata": {},
   "outputs": [],
   "source": []
  },
  {
   "cell_type": "code",
   "execution_count": 113,
   "metadata": {},
   "outputs": [
    {
     "data": {
      "text/plain": [
       "\"Awwwww shit. Probably should have checked that they didn't mean Artificial Insemination before I committed.... 😆\\n\\nNah, just kidding - honoured to be invited and looking forward to it! \""
      ]
     },
     "execution_count": 113,
     "metadata": {},
     "output_type": "execute_result"
    }
   ],
   "source": []
  },
  {
   "cell_type": "code",
   "execution_count": null,
   "metadata": {},
   "outputs": [],
   "source": []
  }
 ],
 "metadata": {
  "kernelspec": {
   "display_name": "Python 3",
   "language": "python",
   "name": "python3"
  },
  "language_info": {
   "codemirror_mode": {
    "name": "ipython",
    "version": 3
   },
   "file_extension": ".py",
   "mimetype": "text/x-python",
   "name": "python",
   "nbconvert_exporter": "python",
   "pygments_lexer": "ipython3",
   "version": "3.6.5"
  }
 },
 "nbformat": 4,
 "nbformat_minor": 2
}
